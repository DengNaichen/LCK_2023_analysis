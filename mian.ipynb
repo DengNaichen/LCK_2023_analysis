{
 "cells": [
  {
   "attachments": {},
   "cell_type": "markdown",
   "metadata": {},
   "source": [
    "# 用聚类算法分析一下LCK春季赛数据\n"
   ]
  },
  {
   "cell_type": "code",
   "execution_count": 1,
   "metadata": {},
   "outputs": [],
   "source": [
    "import requests\n",
    "from bs4 import BeautifulSoup\n",
    "import numpy as np\n",
    "\n",
    "response = requests.get(\"https://lol.fandom.com/wiki/LCK/2023_Season/Spring_Season/Player_Statistics\")\n",
    "html_content = response.text\n",
    "\n",
    "# Parse the HTML with Beautiful Soup\n",
    "soup = BeautifulSoup(html_content, 'html.parser')\n",
    "\n",
    "# Find the first tbody in the HTML\n",
    "tables = soup.find_all('table')\n"
   ]
  },
  {
   "cell_type": "code",
   "execution_count": 2,
   "metadata": {},
   "outputs": [
    {
     "data": {
      "text/plain": [
       "6"
      ]
     },
     "execution_count": 2,
     "metadata": {},
     "output_type": "execute_result"
    }
   ],
   "source": [
    "len(tables)"
   ]
  },
  {
   "cell_type": "code",
   "execution_count": 3,
   "metadata": {},
   "outputs": [],
   "source": [
    "table = tables[4]"
   ]
  },
  {
   "cell_type": "code",
   "execution_count": 4,
   "metadata": {},
   "outputs": [],
   "source": [
    "# Extract table headers\n",
    "headers = []\n",
    "for header in table.find_all('th'):\n",
    "    headers.append(header.text.strip())"
   ]
  },
  {
   "cell_type": "code",
   "execution_count": 5,
   "metadata": {},
   "outputs": [
    {
     "data": {
      "text/plain": [
       "['Name',\n",
       " 'G',\n",
       " 'W',\n",
       " 'L',\n",
       " 'WR',\n",
       " 'K',\n",
       " 'D',\n",
       " 'A',\n",
       " 'KDA',\n",
       " 'CS',\n",
       " 'CS/M',\n",
       " 'Gold',\n",
       " 'G/M',\n",
       " 'DMG',\n",
       " 'DMG/M',\n",
       " 'KPAR',\n",
       " 'KS',\n",
       " 'GS']"
      ]
     },
     "execution_count": 5,
     "metadata": {},
     "output_type": "execute_result"
    }
   ],
   "source": [
    "headers_test = headers[4:]\n",
    "headers_test[-9] = 'Gold'\n",
    "headers_test[1] = \"Name\"\n",
    "del headers_test[0]\n",
    "del headers_test[-1]\n",
    "del headers_test[-1]\n",
    "headers_test"
   ]
  },
  {
   "cell_type": "code",
   "execution_count": 6,
   "metadata": {},
   "outputs": [],
   "source": [
    "rows = []\n",
    "for row in table.find_all('tr'):\n",
    "    row_data = []\n",
    "    for cell in row.find_all('td'):\n",
    "        row_data.append(cell.text.strip())\n",
    "    if row_data:\n",
    "        rows.append(row_data)"
   ]
  },
  {
   "cell_type": "code",
   "execution_count": 7,
   "metadata": {},
   "outputs": [],
   "source": [
    "rows_test = rows[2:]"
   ]
  },
  {
   "cell_type": "code",
   "execution_count": 8,
   "metadata": {},
   "outputs": [],
   "source": [
    "for row in rows_test:\n",
    "    del row[0]\n",
    "    del row[-1]\n",
    "    del row[-1]"
   ]
  },
  {
   "cell_type": "code",
   "execution_count": 10,
   "metadata": {},
   "outputs": [
    {
     "data": {
      "text/plain": [
       "['Effort',\n",
       " '44',\n",
       " '13',\n",
       " '31',\n",
       " '29.5%',\n",
       " '0.41',\n",
       " '2.39',\n",
       " '5.32',\n",
       " '2.4',\n",
       " '28.5',\n",
       " '0.86',\n",
       " '7.5',\n",
       " '227',\n",
       " '4.6k',\n",
       " '139.5',\n",
       " '69.4%',\n",
       " '5%',\n",
       " '13.4%']"
      ]
     },
     "execution_count": 10,
     "metadata": {},
     "output_type": "execute_result"
    }
   ],
   "source": [
    "rows_test[0]"
   ]
  },
  {
   "cell_type": "code",
   "execution_count": 11,
   "metadata": {},
   "outputs": [],
   "source": [
    "import pandas as pd"
   ]
  },
  {
   "cell_type": "code",
   "execution_count": 12,
   "metadata": {},
   "outputs": [],
   "source": [
    "df = pd.DataFrame(rows_test, columns=headers_test)"
   ]
  },
  {
   "cell_type": "code",
   "execution_count": 13,
   "metadata": {},
   "outputs": [
    {
     "data": {
      "text/html": [
       "<div>\n",
       "<style scoped>\n",
       "    .dataframe tbody tr th:only-of-type {\n",
       "        vertical-align: middle;\n",
       "    }\n",
       "\n",
       "    .dataframe tbody tr th {\n",
       "        vertical-align: top;\n",
       "    }\n",
       "\n",
       "    .dataframe thead th {\n",
       "        text-align: right;\n",
       "    }\n",
       "</style>\n",
       "<table border=\"1\" class=\"dataframe\">\n",
       "  <thead>\n",
       "    <tr style=\"text-align: right;\">\n",
       "      <th></th>\n",
       "      <th>Name</th>\n",
       "      <th>G</th>\n",
       "      <th>W</th>\n",
       "      <th>L</th>\n",
       "      <th>WR</th>\n",
       "      <th>K</th>\n",
       "      <th>D</th>\n",
       "      <th>A</th>\n",
       "      <th>KDA</th>\n",
       "      <th>CS</th>\n",
       "      <th>CS/M</th>\n",
       "      <th>Gold</th>\n",
       "      <th>G/M</th>\n",
       "      <th>DMG</th>\n",
       "      <th>DMG/M</th>\n",
       "      <th>KPAR</th>\n",
       "      <th>KS</th>\n",
       "      <th>GS</th>\n",
       "    </tr>\n",
       "  </thead>\n",
       "  <tbody>\n",
       "    <tr>\n",
       "      <th>0</th>\n",
       "      <td>Effort</td>\n",
       "      <td>44</td>\n",
       "      <td>13</td>\n",
       "      <td>31</td>\n",
       "      <td>29.5%</td>\n",
       "      <td>0.41</td>\n",
       "      <td>2.39</td>\n",
       "      <td>5.32</td>\n",
       "      <td>2.4</td>\n",
       "      <td>28.5</td>\n",
       "      <td>0.86</td>\n",
       "      <td>7.5</td>\n",
       "      <td>227</td>\n",
       "      <td>4.6k</td>\n",
       "      <td>139.5</td>\n",
       "      <td>69.4%</td>\n",
       "      <td>5%</td>\n",
       "      <td>13.4%</td>\n",
       "    </tr>\n",
       "    <tr>\n",
       "      <th>1</th>\n",
       "      <td>Hena</td>\n",
       "      <td>44</td>\n",
       "      <td>13</td>\n",
       "      <td>31</td>\n",
       "      <td>29.5%</td>\n",
       "      <td>2.23</td>\n",
       "      <td>2.14</td>\n",
       "      <td>2.77</td>\n",
       "      <td>2.34</td>\n",
       "      <td>306.77</td>\n",
       "      <td>9.22</td>\n",
       "      <td>13.4</td>\n",
       "      <td>401</td>\n",
       "      <td>18.1k</td>\n",
       "      <td>544.6</td>\n",
       "      <td>60.6%</td>\n",
       "      <td>27%</td>\n",
       "      <td>23.6%</td>\n",
       "    </tr>\n",
       "    <tr>\n",
       "      <th>2</th>\n",
       "      <td>Karis</td>\n",
       "      <td>44</td>\n",
       "      <td>13</td>\n",
       "      <td>31</td>\n",
       "      <td>29.5%</td>\n",
       "      <td>2.45</td>\n",
       "      <td>2.18</td>\n",
       "      <td>3</td>\n",
       "      <td>2.5</td>\n",
       "      <td>285.57</td>\n",
       "      <td>8.58</td>\n",
       "      <td>12.6</td>\n",
       "      <td>379</td>\n",
       "      <td>17k</td>\n",
       "      <td>511.3</td>\n",
       "      <td>66.1%</td>\n",
       "      <td>29.8%</td>\n",
       "      <td>22.3%</td>\n",
       "    </tr>\n",
       "    <tr>\n",
       "      <th>3</th>\n",
       "      <td>Morgan</td>\n",
       "      <td>44</td>\n",
       "      <td>13</td>\n",
       "      <td>31</td>\n",
       "      <td>29.5%</td>\n",
       "      <td>1.59</td>\n",
       "      <td>2.45</td>\n",
       "      <td>2.7</td>\n",
       "      <td>1.75</td>\n",
       "      <td>281.09</td>\n",
       "      <td>8.44</td>\n",
       "      <td>12.5</td>\n",
       "      <td>374</td>\n",
       "      <td>13.3k</td>\n",
       "      <td>399.5</td>\n",
       "      <td>52.1%</td>\n",
       "      <td>19.3%</td>\n",
       "      <td>22.1%</td>\n",
       "    </tr>\n",
       "    <tr>\n",
       "      <th>4</th>\n",
       "      <td>UmTi</td>\n",
       "      <td>44</td>\n",
       "      <td>13</td>\n",
       "      <td>31</td>\n",
       "      <td>29.5%</td>\n",
       "      <td>1.57</td>\n",
       "      <td>2.77</td>\n",
       "      <td>4.64</td>\n",
       "      <td>2.24</td>\n",
       "      <td>181.93</td>\n",
       "      <td>5.47</td>\n",
       "      <td>10.5</td>\n",
       "      <td>315</td>\n",
       "      <td>10.7k</td>\n",
       "      <td>320.8</td>\n",
       "      <td>75.2%</td>\n",
       "      <td>19%</td>\n",
       "      <td>18.6%</td>\n",
       "    </tr>\n",
       "  </tbody>\n",
       "</table>\n",
       "</div>"
      ],
      "text/plain": [
       "     Name   G   W   L     WR     K     D     A   KDA      CS  CS/M  Gold  G/M  \\\n",
       "0  Effort  44  13  31  29.5%  0.41  2.39  5.32   2.4    28.5  0.86   7.5  227   \n",
       "1    Hena  44  13  31  29.5%  2.23  2.14  2.77  2.34  306.77  9.22  13.4  401   \n",
       "2   Karis  44  13  31  29.5%  2.45  2.18     3   2.5  285.57  8.58  12.6  379   \n",
       "3  Morgan  44  13  31  29.5%  1.59  2.45   2.7  1.75  281.09  8.44  12.5  374   \n",
       "4    UmTi  44  13  31  29.5%  1.57  2.77  4.64  2.24  181.93  5.47  10.5  315   \n",
       "\n",
       "     DMG  DMG/M   KPAR     KS     GS  \n",
       "0   4.6k  139.5  69.4%     5%  13.4%  \n",
       "1  18.1k  544.6  60.6%    27%  23.6%  \n",
       "2    17k  511.3  66.1%  29.8%  22.3%  \n",
       "3  13.3k  399.5  52.1%  19.3%  22.1%  \n",
       "4  10.7k  320.8  75.2%    19%  18.6%  "
      ]
     },
     "execution_count": 13,
     "metadata": {},
     "output_type": "execute_result"
    }
   ],
   "source": [
    "df.head()"
   ]
  },
  {
   "attachments": {},
   "cell_type": "markdown",
   "metadata": {},
   "source": [
    "now we have the data, first we need the player who paly over 10 matches. "
   ]
  },
  {
   "cell_type": "code",
   "execution_count": 14,
   "metadata": {},
   "outputs": [],
   "source": [
    "def convert_to_float(value):\n",
    "    try:\n",
    "        if isinstance(value, str):\n",
    "            if \"%\" in value:\n",
    "                return float(value.strip('%')) / 100\n",
    "            elif \"K\" in value.upper():\n",
    "                return float(value.upper().strip('K')) * 1000\n",
    "        return float(value)\n",
    "    except ValueError:\n",
    "        return value\n",
    "\n",
    "# Assuming the DataFrame is already created and named 'df'\n",
    "df = df.applymap(convert_to_float)"
   ]
  },
  {
   "cell_type": "code",
   "execution_count": 15,
   "metadata": {},
   "outputs": [
    {
     "data": {
      "text/html": [
       "<div>\n",
       "<style scoped>\n",
       "    .dataframe tbody tr th:only-of-type {\n",
       "        vertical-align: middle;\n",
       "    }\n",
       "\n",
       "    .dataframe tbody tr th {\n",
       "        vertical-align: top;\n",
       "    }\n",
       "\n",
       "    .dataframe thead th {\n",
       "        text-align: right;\n",
       "    }\n",
       "</style>\n",
       "<table border=\"1\" class=\"dataframe\">\n",
       "  <thead>\n",
       "    <tr style=\"text-align: right;\">\n",
       "      <th></th>\n",
       "      <th>Name</th>\n",
       "      <th>G</th>\n",
       "      <th>W</th>\n",
       "      <th>L</th>\n",
       "      <th>WR</th>\n",
       "      <th>K</th>\n",
       "      <th>D</th>\n",
       "      <th>A</th>\n",
       "      <th>KDA</th>\n",
       "      <th>CS</th>\n",
       "      <th>CS/M</th>\n",
       "      <th>Gold</th>\n",
       "      <th>G/M</th>\n",
       "      <th>DMG</th>\n",
       "      <th>DMG/M</th>\n",
       "      <th>KPAR</th>\n",
       "      <th>KS</th>\n",
       "      <th>GS</th>\n",
       "    </tr>\n",
       "  </thead>\n",
       "  <tbody>\n",
       "    <tr>\n",
       "      <th>0</th>\n",
       "      <td>Effort</td>\n",
       "      <td>44.0</td>\n",
       "      <td>13.0</td>\n",
       "      <td>31.0</td>\n",
       "      <td>0.295</td>\n",
       "      <td>0.41</td>\n",
       "      <td>2.39</td>\n",
       "      <td>5.32</td>\n",
       "      <td>2.40</td>\n",
       "      <td>28.50</td>\n",
       "      <td>0.86</td>\n",
       "      <td>7.5</td>\n",
       "      <td>227.0</td>\n",
       "      <td>4600.0</td>\n",
       "      <td>139.5</td>\n",
       "      <td>0.694</td>\n",
       "      <td>0.050</td>\n",
       "      <td>0.134</td>\n",
       "    </tr>\n",
       "    <tr>\n",
       "      <th>1</th>\n",
       "      <td>Hena</td>\n",
       "      <td>44.0</td>\n",
       "      <td>13.0</td>\n",
       "      <td>31.0</td>\n",
       "      <td>0.295</td>\n",
       "      <td>2.23</td>\n",
       "      <td>2.14</td>\n",
       "      <td>2.77</td>\n",
       "      <td>2.34</td>\n",
       "      <td>306.77</td>\n",
       "      <td>9.22</td>\n",
       "      <td>13.4</td>\n",
       "      <td>401.0</td>\n",
       "      <td>18100.0</td>\n",
       "      <td>544.6</td>\n",
       "      <td>0.606</td>\n",
       "      <td>0.270</td>\n",
       "      <td>0.236</td>\n",
       "    </tr>\n",
       "    <tr>\n",
       "      <th>2</th>\n",
       "      <td>Karis</td>\n",
       "      <td>44.0</td>\n",
       "      <td>13.0</td>\n",
       "      <td>31.0</td>\n",
       "      <td>0.295</td>\n",
       "      <td>2.45</td>\n",
       "      <td>2.18</td>\n",
       "      <td>3.00</td>\n",
       "      <td>2.50</td>\n",
       "      <td>285.57</td>\n",
       "      <td>8.58</td>\n",
       "      <td>12.6</td>\n",
       "      <td>379.0</td>\n",
       "      <td>17000.0</td>\n",
       "      <td>511.3</td>\n",
       "      <td>0.661</td>\n",
       "      <td>0.298</td>\n",
       "      <td>0.223</td>\n",
       "    </tr>\n",
       "    <tr>\n",
       "      <th>3</th>\n",
       "      <td>Morgan</td>\n",
       "      <td>44.0</td>\n",
       "      <td>13.0</td>\n",
       "      <td>31.0</td>\n",
       "      <td>0.295</td>\n",
       "      <td>1.59</td>\n",
       "      <td>2.45</td>\n",
       "      <td>2.70</td>\n",
       "      <td>1.75</td>\n",
       "      <td>281.09</td>\n",
       "      <td>8.44</td>\n",
       "      <td>12.5</td>\n",
       "      <td>374.0</td>\n",
       "      <td>13300.0</td>\n",
       "      <td>399.5</td>\n",
       "      <td>0.521</td>\n",
       "      <td>0.193</td>\n",
       "      <td>0.221</td>\n",
       "    </tr>\n",
       "    <tr>\n",
       "      <th>4</th>\n",
       "      <td>UmTi</td>\n",
       "      <td>44.0</td>\n",
       "      <td>13.0</td>\n",
       "      <td>31.0</td>\n",
       "      <td>0.295</td>\n",
       "      <td>1.57</td>\n",
       "      <td>2.77</td>\n",
       "      <td>4.64</td>\n",
       "      <td>2.24</td>\n",
       "      <td>181.93</td>\n",
       "      <td>5.47</td>\n",
       "      <td>10.5</td>\n",
       "      <td>315.0</td>\n",
       "      <td>10700.0</td>\n",
       "      <td>320.8</td>\n",
       "      <td>0.752</td>\n",
       "      <td>0.190</td>\n",
       "      <td>0.186</td>\n",
       "    </tr>\n",
       "  </tbody>\n",
       "</table>\n",
       "</div>"
      ],
      "text/plain": [
       "     Name     G     W     L     WR     K     D     A   KDA      CS  CS/M  \\\n",
       "0  Effort  44.0  13.0  31.0  0.295  0.41  2.39  5.32  2.40   28.50  0.86   \n",
       "1    Hena  44.0  13.0  31.0  0.295  2.23  2.14  2.77  2.34  306.77  9.22   \n",
       "2   Karis  44.0  13.0  31.0  0.295  2.45  2.18  3.00  2.50  285.57  8.58   \n",
       "3  Morgan  44.0  13.0  31.0  0.295  1.59  2.45  2.70  1.75  281.09  8.44   \n",
       "4    UmTi  44.0  13.0  31.0  0.295  1.57  2.77  4.64  2.24  181.93  5.47   \n",
       "\n",
       "   Gold    G/M      DMG  DMG/M   KPAR     KS     GS  \n",
       "0   7.5  227.0   4600.0  139.5  0.694  0.050  0.134  \n",
       "1  13.4  401.0  18100.0  544.6  0.606  0.270  0.236  \n",
       "2  12.6  379.0  17000.0  511.3  0.661  0.298  0.223  \n",
       "3  12.5  374.0  13300.0  399.5  0.521  0.193  0.221  \n",
       "4  10.5  315.0  10700.0  320.8  0.752  0.190  0.186  "
      ]
     },
     "execution_count": 15,
     "metadata": {},
     "output_type": "execute_result"
    }
   ],
   "source": [
    "df.head()"
   ]
  },
  {
   "cell_type": "code",
   "execution_count": 334,
   "metadata": {},
   "outputs": [],
   "source": [
    "df = df[df['G'] >= 10]"
   ]
  },
  {
   "cell_type": "code",
   "execution_count": 19,
   "metadata": {},
   "outputs": [
    {
     "data": {
      "text/html": [
       "<div>\n",
       "<style scoped>\n",
       "    .dataframe tbody tr th:only-of-type {\n",
       "        vertical-align: middle;\n",
       "    }\n",
       "\n",
       "    .dataframe tbody tr th {\n",
       "        vertical-align: top;\n",
       "    }\n",
       "\n",
       "    .dataframe thead th {\n",
       "        text-align: right;\n",
       "    }\n",
       "</style>\n",
       "<table border=\"1\" class=\"dataframe\">\n",
       "  <thead>\n",
       "    <tr style=\"text-align: right;\">\n",
       "      <th></th>\n",
       "      <th>K</th>\n",
       "      <th>D</th>\n",
       "      <th>A</th>\n",
       "      <th>KDA</th>\n",
       "      <th>CS</th>\n",
       "      <th>CS/M</th>\n",
       "      <th>Gold</th>\n",
       "      <th>G/M</th>\n",
       "      <th>DMG</th>\n",
       "      <th>DMG/M</th>\n",
       "      <th>KPAR</th>\n",
       "      <th>KS</th>\n",
       "      <th>GS</th>\n",
       "    </tr>\n",
       "  </thead>\n",
       "  <tbody>\n",
       "    <tr>\n",
       "      <th>0</th>\n",
       "      <td>0.41</td>\n",
       "      <td>2.39</td>\n",
       "      <td>5.32</td>\n",
       "      <td>2.40</td>\n",
       "      <td>28.50</td>\n",
       "      <td>0.86</td>\n",
       "      <td>7.5</td>\n",
       "      <td>227.0</td>\n",
       "      <td>4600.0</td>\n",
       "      <td>139.5</td>\n",
       "      <td>0.694</td>\n",
       "      <td>0.050</td>\n",
       "      <td>0.134</td>\n",
       "    </tr>\n",
       "    <tr>\n",
       "      <th>1</th>\n",
       "      <td>2.23</td>\n",
       "      <td>2.14</td>\n",
       "      <td>2.77</td>\n",
       "      <td>2.34</td>\n",
       "      <td>306.77</td>\n",
       "      <td>9.22</td>\n",
       "      <td>13.4</td>\n",
       "      <td>401.0</td>\n",
       "      <td>18100.0</td>\n",
       "      <td>544.6</td>\n",
       "      <td>0.606</td>\n",
       "      <td>0.270</td>\n",
       "      <td>0.236</td>\n",
       "    </tr>\n",
       "    <tr>\n",
       "      <th>2</th>\n",
       "      <td>2.45</td>\n",
       "      <td>2.18</td>\n",
       "      <td>3.00</td>\n",
       "      <td>2.50</td>\n",
       "      <td>285.57</td>\n",
       "      <td>8.58</td>\n",
       "      <td>12.6</td>\n",
       "      <td>379.0</td>\n",
       "      <td>17000.0</td>\n",
       "      <td>511.3</td>\n",
       "      <td>0.661</td>\n",
       "      <td>0.298</td>\n",
       "      <td>0.223</td>\n",
       "    </tr>\n",
       "    <tr>\n",
       "      <th>3</th>\n",
       "      <td>1.59</td>\n",
       "      <td>2.45</td>\n",
       "      <td>2.70</td>\n",
       "      <td>1.75</td>\n",
       "      <td>281.09</td>\n",
       "      <td>8.44</td>\n",
       "      <td>12.5</td>\n",
       "      <td>374.0</td>\n",
       "      <td>13300.0</td>\n",
       "      <td>399.5</td>\n",
       "      <td>0.521</td>\n",
       "      <td>0.193</td>\n",
       "      <td>0.221</td>\n",
       "    </tr>\n",
       "    <tr>\n",
       "      <th>4</th>\n",
       "      <td>1.57</td>\n",
       "      <td>2.77</td>\n",
       "      <td>4.64</td>\n",
       "      <td>2.24</td>\n",
       "      <td>181.93</td>\n",
       "      <td>5.47</td>\n",
       "      <td>10.5</td>\n",
       "      <td>315.0</td>\n",
       "      <td>10700.0</td>\n",
       "      <td>320.8</td>\n",
       "      <td>0.752</td>\n",
       "      <td>0.190</td>\n",
       "      <td>0.186</td>\n",
       "    </tr>\n",
       "  </tbody>\n",
       "</table>\n",
       "</div>"
      ],
      "text/plain": [
       "      K     D     A   KDA      CS  CS/M  Gold    G/M      DMG  DMG/M   KPAR  \\\n",
       "0  0.41  2.39  5.32  2.40   28.50  0.86   7.5  227.0   4600.0  139.5  0.694   \n",
       "1  2.23  2.14  2.77  2.34  306.77  9.22  13.4  401.0  18100.0  544.6  0.606   \n",
       "2  2.45  2.18  3.00  2.50  285.57  8.58  12.6  379.0  17000.0  511.3  0.661   \n",
       "3  1.59  2.45  2.70  1.75  281.09  8.44  12.5  374.0  13300.0  399.5  0.521   \n",
       "4  1.57  2.77  4.64  2.24  181.93  5.47  10.5  315.0  10700.0  320.8  0.752   \n",
       "\n",
       "      KS     GS  \n",
       "0  0.050  0.134  \n",
       "1  0.270  0.236  \n",
       "2  0.298  0.223  \n",
       "3  0.193  0.221  \n",
       "4  0.190  0.186  "
      ]
     },
     "execution_count": 19,
     "metadata": {},
     "output_type": "execute_result"
    }
   ],
   "source": [
    "# 去掉所有和场数相关的数据，和名字\n",
    "columns_to_drop = df.columns[:5]\n",
    "\n",
    "# Drop the first four columns\n",
    "df_pure_data = df.drop(columns=columns_to_drop)\n",
    "\n",
    "# Display the updated DataFrame\n",
    "df_pure_data.head()"
   ]
  },
  {
   "cell_type": "code",
   "execution_count": 20,
   "metadata": {},
   "outputs": [],
   "source": [
    "from sklearn.cluster import KMeans\n",
    "from sklearn.preprocessing import StandardScaler\n",
    "\n",
    "# Assuming the DataFrame is already created and named 'df'\n",
    "\n",
    "# Remove any rows with missing values\n",
    "df_pure_data = df_pure_data.dropna()\n",
    "\n",
    "# Scale the data to have zero mean and unit variance\n",
    "scaler = StandardScaler()\n",
    "scaled_data = scaler.fit_transform(df_pure_data)"
   ]
  },
  {
   "cell_type": "code",
   "execution_count": 21,
   "metadata": {},
   "outputs": [],
   "source": [
    "# Set the number of clusters\n",
    "n_clusters = 5\n",
    "\n",
    "# Apply K-Means clustering\n",
    "kmeans = KMeans(n_clusters=n_clusters, random_state=42, max_iter=2000)\n",
    "kmeans.fit(scaled_data)\n",
    "\n",
    "# Get the cluster labels for each data point\n",
    "cluster_labels = kmeans.labels_"
   ]
  },
  {
   "cell_type": "code",
   "execution_count": 22,
   "metadata": {},
   "outputs": [],
   "source": [
    "df['Cluster'] = cluster_labels"
   ]
  },
  {
   "cell_type": "code",
   "execution_count": 28,
   "metadata": {},
   "outputs": [
    {
     "data": {
      "text/plain": [
       "7          Deft\n",
       "9     ShowMaker\n",
       "17        Chovy\n",
       "21         Peyz\n",
       "25        Viper\n",
       "27       Aiming\n",
       "28          Bdd\n",
       "48       Callme\n",
       "49        Faker\n",
       "50     Gumayusi\n",
       "Name: Name, dtype: object"
      ]
     },
     "execution_count": 28,
     "metadata": {},
     "output_type": "execute_result"
    }
   ],
   "source": [
    "df[df['Cluster'] == 0]['Name']"
   ]
  },
  {
   "attachments": {},
   "cell_type": "markdown",
   "metadata": {},
   "source": [
    "这个算法并没有将ad和mid分开，几乎都是排名前五的中下，除了：\n",
    "1. Viper：帮自家中单擦屁股\n",
    "2. Callme：战队排名倒数第一，纯纯院长"
   ]
  },
  {
   "cell_type": "code",
   "execution_count": 24,
   "metadata": {},
   "outputs": [
    {
     "data": {
      "text/plain": [
       "4         UmTi\n",
       "6       Canyon\n",
       "14       Croco\n",
       "15       Juhan\n",
       "20      Peanut\n",
       "22        Clid\n",
       "29        Cuzz\n",
       "35    YoungJae\n",
       "42      Willer\n",
       "45      Sylvie\n",
       "52        Oner\n",
       "Name: Name, dtype: object"
      ]
     },
     "execution_count": 24,
     "metadata": {},
     "output_type": "execute_result"
    }
   ],
   "source": [
    "df[df['Cluster'] == 1]['Name']"
   ]
  },
  {
   "attachments": {},
   "cell_type": "markdown",
   "metadata": {},
   "source": [
    "都是打野"
   ]
  },
  {
   "cell_type": "code",
   "execution_count": 25,
   "metadata": {},
   "outputs": [
    {
     "data": {
      "text/plain": [
       "1        Hena\n",
       "2       Karis\n",
       "3      Morgan\n",
       "5       Canna\n",
       "11       FATE\n",
       "12     Rascal\n",
       "13    deokdam\n",
       "16     Pleata\n",
       "19      Doran\n",
       "23     Kingen\n",
       "26       ZEKA\n",
       "30       Kiin\n",
       "32    BuLLDoG\n",
       "33       DuDu\n",
       "34    Taeyoon\n",
       "38     Burdol\n",
       "39     Clozer\n",
       "40      Envyy\n",
       "43       DnDn\n",
       "46      vital\n",
       "47     FIESTA\n",
       "53       Zeus\n",
       "Name: Name, dtype: object"
      ]
     },
     "execution_count": 25,
     "metadata": {},
     "output_type": "execute_result"
    }
   ],
   "source": [
    "df[df['Cluster'] == 2]['Name']"
   ]
  },
  {
   "attachments": {},
   "cell_type": "markdown",
   "metadata": {},
   "source": [
    "AD and MID, standing:\n",
    "倒数后五名的队伍，ad和中单的分类和上单一样。。。\n",
    "1. Hena, Karis, \n",
    "2. deokdam, FATE\n",
    "3. Taeyoon, BuLLDoG\n",
    "4. Envyy, Clozer\n",
    "5. vital, FIESTA\n",
    "\n",
    "TOP:\n",
    "1. Morgan\n",
    "2. Canna\n",
    "3. Rascal\n",
    "4. Doran\n",
    "5. Kingen\n",
    "6. Kiin\n",
    "7. DuDu\n",
    "8. Zeus\n",
    "9. DnDn\n",
    "\n",
    "除了ZEKA，纯纯战犯"
   ]
  },
  {
   "cell_type": "code",
   "execution_count": 29,
   "metadata": {},
   "outputs": [
    {
     "data": {
      "text/plain": [
       "8      Kellin\n",
       "18    Delight\n",
       "51      Keria\n",
       "Name: Name, dtype: object"
      ]
     },
     "execution_count": 29,
     "metadata": {},
     "output_type": "execute_result"
    }
   ],
   "source": [
    "df[df['Cluster'] == 3]['Name']"
   ]
  },
  {
   "attachments": {},
   "cell_type": "markdown",
   "metadata": {},
   "source": [
    "。。。这三个辅助能单独列出一档啊，离谱。。。"
   ]
  },
  {
   "cell_type": "code",
   "execution_count": 30,
   "metadata": {},
   "outputs": [
    {
     "data": {
      "text/plain": [
       "0      Effort\n",
       "10      BeryL\n",
       "24       Life\n",
       "31    Lehends\n",
       "36        Jun\n",
       "37      Moham\n",
       "41       Kael\n",
       "44      Peter\n",
       "Name: Name, dtype: object"
      ]
     },
     "execution_count": 30,
     "metadata": {},
     "output_type": "execute_result"
    }
   ],
   "source": [
    "df[df['Cluster'] == 4]['Name']"
   ]
  },
  {
   "attachments": {},
   "cell_type": "markdown",
   "metadata": {},
   "source": [
    "都是常规辅助，如果数据包括CP（英雄选用），Lehends 和 Kael能排到前一档。"
   ]
  }
 ],
 "metadata": {
  "kernelspec": {
   "display_name": "nn",
   "language": "python",
   "name": "python3"
  },
  "language_info": {
   "codemirror_mode": {
    "name": "ipython",
    "version": 3
   },
   "file_extension": ".py",
   "mimetype": "text/x-python",
   "name": "python",
   "nbconvert_exporter": "python",
   "pygments_lexer": "ipython3",
   "version": "3.9.7"
  },
  "orig_nbformat": 4
 },
 "nbformat": 4,
 "nbformat_minor": 2
}
